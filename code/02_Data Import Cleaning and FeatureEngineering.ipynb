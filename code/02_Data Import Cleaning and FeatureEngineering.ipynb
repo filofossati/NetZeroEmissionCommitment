{
 "cells": [
  {
   "cell_type": "markdown",
   "id": "3d2f5993",
   "metadata": {},
   "source": [
    "## Company Industry, Emission and Climate Action Information"
   ]
  },
  {
   "cell_type": "markdown",
   "id": "2935fdc8",
   "metadata": {},
   "source": [
    "The goal of this jupyter notebook is to create a final dataframe that contains the following information:\n",
    "1. Company information such as geography, industry (source: Entelligent)\n",
    "2. Scope 1, Scope 2, Scope 3 Emissions for the period 2012-2020 (source: Entelligent)\n",
    "3. Company climate action objective (source: Science_based Target Inititative)\n",
    "4. Country Emission Information: (Source:Our World In Data)\n"
   ]
  },
  {
   "cell_type": "code",
   "execution_count": 2,
   "id": "489de0f1",
   "metadata": {},
   "outputs": [],
   "source": [
    "import pandas as pd\n",
    "import numpy as np\n",
    "import matplotlib.pyplot as plt\n",
    "import seaborn as sns"
   ]
  },
  {
   "cell_type": "markdown",
   "id": "98c860ae",
   "metadata": {},
   "source": [
    "**Step 1** Importing all df and renaming columns name"
   ]
  },
  {
   "cell_type": "code",
   "execution_count": 3,
   "id": "216b7004",
   "metadata": {},
   "outputs": [],
   "source": [
    "emissions = pd.read_csv('../data/entelligent/ent_emissions.csv')\n",
    "bakeoff = pd.read_csv('../data/entelligent/ent_gics.csv')\n",
    "country_isin = pd.read_csv('../data/web/country_isin.csv')\n",
    "climate_target = pd.read_csv('../data/web/companies_target.csv')\n",
    "country_emission = pd.read_csv('../data/output/country_emission.csv')"
   ]
  },
  {
   "cell_type": "code",
   "execution_count": 4,
   "id": "929a1da9",
   "metadata": {},
   "outputs": [],
   "source": [
    "#cleaning Entelligent Dataframe column title\n",
    "def lowering (value):\n",
    "    return value.lower()\n",
    "#scopes dataset\n",
    "col_emissions = [col for col in emissions.columns]\n",
    "col_emissions2 = [lowering(col) for col in emissions.columns]\n",
    "dictionary_emissions = dict(zip(col_emissions,col_emissions2 ))\n",
    "emissions.rename(columns=dictionary_emissions, inplace=True)\n",
    "#gics dataset\n",
    "col_bakeoff = [col for col in bakeoff.columns]\n",
    "col_bakeoff2 = [lowering(col) for col in bakeoff.columns]\n",
    "dictionary_bakeoff = dict(zip(col_bakeoff,col_bakeoff2 ))\n",
    "bakeoff.rename(columns=dictionary_bakeoff, inplace=True)"
   ]
  },
  {
   "cell_type": "markdown",
   "id": "8e653ea2",
   "metadata": {},
   "source": [
    "**Step 2** Filtering main df by benchmark and columns"
   ]
  },
  {
   "cell_type": "markdown",
   "id": "9accb985",
   "metadata": {},
   "source": [
    "*General Note:* The bakeoff dataset is the one that provides the list of companies by benchmark. Thus, this df is the main one where I will be adding predictors coming from the other dfs. "
   ]
  },
  {
   "cell_type": "code",
   "execution_count": 5,
   "id": "a4953e8e",
   "metadata": {},
   "outputs": [
    {
     "data": {
      "text/plain": [
       "(73238, 24)"
      ]
     },
     "execution_count": 5,
     "metadata": {},
     "output_type": "execute_result"
    }
   ],
   "source": [
    "#Selecting  MSCI ACWI Universe and checking its shape\n",
    "msci = bakeoff[bakeoff['bench_name']=='ACWI-US'].copy()\n",
    "msci.shape"
   ]
  },
  {
   "cell_type": "code",
   "execution_count": 6,
   "id": "288a7b32",
   "metadata": {},
   "outputs": [
    {
     "data": {
      "text/plain": [
       "t_date                         0.000000\n",
       "bench_name                     0.000000\n",
       "fsym_id                        0.000000\n",
       "ticker_region                  0.033425\n",
       "isin_region                    0.036183\n",
       "proper_name                    0.033412\n",
       "gics_sector_name               0.081501\n",
       "gics_industry_group_name       0.081501\n",
       "gics_industry_name             0.081501\n",
       "gics_sub_industry_name         0.081501\n",
       "port_weight                    0.000000\n",
       "returns                        0.032142\n",
       "region                         0.048458\n",
       "emtr                           0.106543\n",
       "emtr_rank                      0.107035\n",
       "tod                            0.048458\n",
       "t_risk_carbon_adjusted         0.035064\n",
       "quarterly_revenue              0.479041\n",
       "market_value                   0.216704\n",
       "carbon_footprint               0.216704\n",
       "total_tonnes_scopes_1_and_2    0.216295\n",
       "carbon_related_industry        0.243480\n",
       "carbon_intensity               0.479573\n",
       "revenue_per_tonne              0.479041\n",
       "dtype: float64"
      ]
     },
     "execution_count": 6,
     "metadata": {},
     "output_type": "execute_result"
    }
   ],
   "source": [
    "#checking null values\n",
    "msci.isnull().mean()"
   ]
  },
  {
   "cell_type": "code",
   "execution_count": 7,
   "id": "4fa268e6",
   "metadata": {},
   "outputs": [],
   "source": [
    "#selecting the columns I am interested into \n",
    "msci = msci[['t_date', 'fsym_id', 'ticker_region', 'isin_region',\n",
    "             'gics_sector_name', 'gics_sub_industry_name', 'port_weight',\n",
    "             'returns', 'region',  'market_value']]"
   ]
  },
  {
   "cell_type": "code",
   "execution_count": 8,
   "id": "9e066792",
   "metadata": {},
   "outputs": [],
   "source": [
    "#dropping all null values in ticker region\n",
    "msci = msci[~msci['ticker_region'].isnull()]"
   ]
  },
  {
   "cell_type": "markdown",
   "id": "eb4a7480",
   "metadata": {},
   "source": [
    "**Step 3** Feature Engineering and Cleaning "
   ]
  },
  {
   "cell_type": "code",
   "execution_count": 9,
   "id": "42d7eddb",
   "metadata": {},
   "outputs": [],
   "source": [
    "#feature engineering market capitalization as follow\n",
    "#large cap >10 billions $\n",
    "#medium cap between 2-10 billions#\n",
    "#small cap less than 2 billions \n",
    "def cap_size(value):\n",
    "    if value == None:\n",
    "        return 'missing'\n",
    "    elif value > 10_000_000_000:\n",
    "        return 'large'\n",
    "    elif value <=10_000_000_000 and value>2_000_000_000:\n",
    "        return 'medium'\n",
    "    elif value <= 2_000_000_000:\n",
    "        return 'small'     \n",
    "cap_size(None)\n",
    "msci['company_cap'] = msci['market_value'].map(cap_size)"
   ]
  },
  {
   "cell_type": "code",
   "execution_count": 10,
   "id": "53d2f2db",
   "metadata": {},
   "outputs": [],
   "source": [
    "#I want to have a column with the name of the ocuntry companies belong to\n",
    "#I am creating the isin code from the ticker region. Pulling everything tha comes after the dash\n",
    "#And I am checking with the isin code that comes from the website that I have a perfect match\n",
    "msci['country_isin'] = msci['ticker_region'].map(lambda x: str(x).split('-')[-1])\n",
    "country_isin.drop(columns='name', inplace=True) # deleting name as reduntant information\n",
    "msci = pd.merge(msci, country_isin, left_on='country_isin', right_on='country_isin', how='left')"
   ]
  },
  {
   "cell_type": "code",
   "execution_count": 11,
   "id": "4c35d90d",
   "metadata": {},
   "outputs": [
    {
     "data": {
      "text/plain": [
       "array(['Thailand', 'United kingdom', 'Korea, republic of', 'Brazil',\n",
       "       'Netherlands', 'United states', 'Australia', 'China', 'Sweden',\n",
       "       'Switzerland', 'Germany', 'Italy', 'Indonesia', 'Japan',\n",
       "       'Hong kong', 'South africa', 'Philippines', 'Canada', 'Poland',\n",
       "       'Spain', 'Qatar', 'Singapore', 'France', 'Finland', 'Malaysia',\n",
       "       'Taiwan, province of china', 'Denmark', 'Turkey', 'Mexico',\n",
       "       'Belgium', 'Norway', 'Russian federation', 'New zealand',\n",
       "       'Portugal', 'Chile', 'Czech republic', 'Colombia', 'India',\n",
       "       'Austria', 'Saudi arabia', 'Greece', 'Israel',\n",
       "       'United arab emirates', 'Egypt', 'Hungary', 'Ireland', 'Pakistan',\n",
       "       'Kuwait'], dtype=object)"
      ]
     },
     "execution_count": 11,
     "metadata": {},
     "output_type": "execute_result"
    }
   ],
   "source": [
    "msci['country_name'].unique()"
   ]
  },
  {
   "cell_type": "code",
   "execution_count": 12,
   "id": "c171bae9",
   "metadata": {},
   "outputs": [
    {
     "data": {
      "text/plain": [
       "array(['TH', 'GB', 'KR', 'BR', 'NL', 'US', 'AU', 'CN', 'SE', 'CH', 'DE',\n",
       "       'IT', 'ID', 'JP', 'HK', 'ZA', 'PH', 'CA', 'PL', 'ES', 'QA', 'SG',\n",
       "       'FR', 'FI', 'MY', 'TW', 'DK', 'TR', 'MX', 'BE', 'NO', 'RU', 'NZ',\n",
       "       'PT', 'CL', 'CZ', 'CO', 'IN', 'AT', 'SA', 'GR', 'IL', 'AE', 'EG',\n",
       "       'HU', 'IE', 'PK', 'KW'], dtype=object)"
      ]
     },
     "execution_count": 12,
     "metadata": {},
     "output_type": "execute_result"
    }
   ],
   "source": [
    "msci['country_isin'].unique()"
   ]
  },
  {
   "cell_type": "code",
   "execution_count": 13,
   "id": "248bdfda",
   "metadata": {},
   "outputs": [],
   "source": [
    "#Now I also would like to map better the region; to do that I am creating a dictionary and then applying a function\n",
    "#on the country name I just added \n",
    "country_region = { 'Thailand': 'Asia/Pacific Ex Japan', 'United kingdom': 'Europe', \n",
    "                  'Korea, republic of': 'Asia/Pacific Ex Japan', 'Brazil': 'Latin America',\n",
    "                  'Netherlands': 'Europe', 'United states':'North America', \n",
    "                  'Australia': 'Asia/Pacific Ex Japan', 'China': 'Asia/Pacific Ex Japan', \n",
    "                  'Sweden': 'Europe','Switzerland': 'Europe', 'Germany': 'Europe', 'Italy': 'Europe', \n",
    "                  'Indonesia': 'Asia/Pacific Ex Japan', 'Japan':'Japan','Hong kong': 'Asia/Pacific Ex Japan', \n",
    "                  'South africa': 'Africa/Mideast', 'Philippines': 'Asia/Pacific Ex Japan', \n",
    "                  'Canada':'North America', 'Poland': 'Europe','Spain': 'Europe', 'Qatar':'Africa/Mideast', \n",
    "                  'Singapore': 'Asia/Pacific Ex Japan', 'France': 'Europe', 'Finland': 'Europe', \n",
    "                  'Malaysia': 'Asia/Pacific Ex Japan','Taiwan, province of china': 'Asia/Pacific Ex Japan', \n",
    "                  'Denmark': 'Europe', 'Turkey': 'Africa/Mideast', \n",
    "                  'Mexico':'Latin America','Belgium': 'Europe', 'Norway': 'Europe', \n",
    "                  'Russian federation': 'Europe', 'New zealand': 'Asia/Pacific Ex Japan','Portugal': 'Europe', \n",
    "                  'Chile': 'Latin America', 'Czech republic': 'Europe', 'Colombia': 'Latin America', \n",
    "                  'India': 'Asia/Pacific Ex Japan','Austria': 'Europe', 'Saudi arabia': 'Africa/Mideast', \n",
    "                  'Greece': 'Europe', 'Israel': 'Africa/Mideast','United arab emirates': 'Africa/Mideast', \n",
    "                  'Egypt': 'Africa/Mideast', 'Hungary': 'Europe', 'Ireland': 'Europe', \n",
    "                  'Pakistan': 'Asia/Pacific Ex Japan','Kuwait': 'Africa/Mideast'}\n",
    "def map_region(country):\n",
    "    if country in country_region.keys():\n",
    "        return country_region.get(country)\n",
    "    return np.nan\n",
    "msci['region'] = msci['country_name'].apply(map_region)"
   ]
  },
  {
   "cell_type": "code",
   "execution_count": 14,
   "id": "82fc77f5",
   "metadata": {},
   "outputs": [
    {
     "data": {
      "text/plain": [
       "(70790, 13)"
      ]
     },
     "execution_count": 14,
     "metadata": {},
     "output_type": "execute_result"
    }
   ],
   "source": [
    "msci.shape"
   ]
  },
  {
   "cell_type": "code",
   "execution_count": 15,
   "id": "3b886705",
   "metadata": {},
   "outputs": [
    {
     "data": {
      "text/plain": [
       "array(['Asia/Pacific Ex Japan', 'Europe', 'Latin America',\n",
       "       'North America', 'Japan', 'Africa/Mideast'], dtype=object)"
      ]
     },
     "execution_count": 15,
     "metadata": {},
     "output_type": "execute_result"
    }
   ],
   "source": [
    "msci['region'].unique()"
   ]
  },
  {
   "cell_type": "code",
   "execution_count": 16,
   "id": "64653535",
   "metadata": {},
   "outputs": [],
   "source": [
    "#another interesting characteristics that might be worth to explore is whether a company \n",
    "#comes from a developed or emerging market; source: https://www.msci.com/our-solutions/indexes/acwi \n",
    "#no info on MSCI for russia and pakistan: found here https://www.investopedia.com/terms/e/emergingmarketeconomy.asp\n",
    "country_economy = { 'Thailand':'emerging', 'United kingdom':'developed', 'Korea, republic of':'emerging',\n",
    "                  'Brazil':'emerging','Netherlands':'developed', 'United states':'developed', \n",
    "                  'Australia':'developed', 'China':'emerging', 'Sweden':'developed','Switzerland':'developed', \n",
    "                  'Germany':'developed', 'Italy':'developed', 'Indonesia':'emerging', 'Japan':'developed','Hong kong':'developed', 'South africa':'emerging', \n",
    "                  'Philippines':'emerging', 'Canada':'developed', 'Poland':'emerging','Spain':'developed', 'Qatar':'emerging', 'Singapore':'developed', \n",
    "                  'France':'developed', 'Finland':'developed', 'Malaysia':'emerging','Taiwan, province of china':'emerging', \n",
    "                  'Denmark':'developed', 'Turkey':'emerging', 'Mexico':'emerging','Belgium':'developed', 'Norway':'developed', \n",
    "                  'Russian federation':'emerging', 'New zealand':'developed','Portugal':'developed', \n",
    "                  'Chile':'emerging', 'Czech republic':'emerging', 'Colombia':'emerging', \n",
    "                  'India':'emerging','Austria':'developed', 'Saudi arabia':'emerging', 'Greece':'emerging', \n",
    "                  'Israel':'developed','United arab emirates':'emerging', 'Egypt':'emerging', \n",
    "                  'Hungary':'emerging', 'Ireland':'developed', 'Pakistan':'emerging','Kuwait':'emerging'}\n",
    "\n",
    "def map_economy(country):\n",
    "    if country in country_economy.keys():\n",
    "        return country_economy.get(country)\n",
    "    return np.nan\n",
    "#map_region('Thailand')\n",
    "msci['country_economy'] = msci['country_name'].apply(map_economy)"
   ]
  },
  {
   "cell_type": "code",
   "execution_count": 17,
   "id": "292c5aca",
   "metadata": {},
   "outputs": [],
   "source": [
    "#because all other dataframe fundamental and emissions begins in 2012, I will select date from 2012\n",
    "msci = msci[msci['t_date']>'2012-01-01']"
   ]
  },
  {
   "cell_type": "markdown",
   "id": "27f67e93",
   "metadata": {},
   "source": [
    "**Step 4** Filtering the company emissions dataset"
   ]
  },
  {
   "cell_type": "code",
   "execution_count": 18,
   "id": "371777f8",
   "metadata": {},
   "outputs": [],
   "source": [
    "#selecting the column I am interested into for the emissions df\n",
    "emissions = emissions[['fsym_id', 't_date','scope_1_tonnes', 'scope_2_tonnes', 'scope_3_tonnes']].copy()"
   ]
  },
  {
   "cell_type": "markdown",
   "id": "c8d89b68",
   "metadata": {},
   "source": [
    "**Step 5** Merging the emissions df with MSCI"
   ]
  },
  {
   "cell_type": "code",
   "execution_count": 19,
   "id": "f55e48d0",
   "metadata": {},
   "outputs": [],
   "source": [
    "#merging the two dataframe as one\n",
    "emiss_msci = pd.merge(msci,emissions, left_on=['t_date','fsym_id'], right_on = ['t_date','fsym_id'],how='left')"
   ]
  },
  {
   "cell_type": "code",
   "execution_count": 20,
   "id": "951c63fd",
   "metadata": {},
   "outputs": [
    {
     "data": {
      "text/plain": [
       "3021"
      ]
     },
     "execution_count": 20,
     "metadata": {},
     "output_type": "execute_result"
    }
   ],
   "source": [
    "#We have ~ 3060 company\n",
    "len(emiss_msci['fsym_id'].unique())"
   ]
  },
  {
   "cell_type": "code",
   "execution_count": 21,
   "id": "ebcb846b",
   "metadata": {},
   "outputs": [],
   "source": [
    "#renaming isin_region with company isin for further merging\n",
    "emiss_msci.rename(columns={'isin_region': 'company_isin'}, inplace=True)"
   ]
  },
  {
   "cell_type": "code",
   "execution_count": 22,
   "id": "5e392858",
   "metadata": {},
   "outputs": [],
   "source": [
    "#filling null value with different name to avoid conflict during future merging\n",
    "emiss_msci['company_isin'].fillna('none', inplace=True)"
   ]
  },
  {
   "cell_type": "markdown",
   "id": "61475b8b",
   "metadata": {},
   "source": [
    "**Step 6** Cleaning company climate commitments df and merging it with the latest df"
   ]
  },
  {
   "cell_type": "code",
   "execution_count": 23,
   "id": "9582288b",
   "metadata": {},
   "outputs": [
    {
     "data": {
      "text/plain": [
       "(2811, 6)"
      ]
     },
     "execution_count": 23,
     "metadata": {},
     "output_type": "execute_result"
    }
   ],
   "source": [
    "#checking the shape\n",
    "climate_target.shape"
   ]
  },
  {
   "cell_type": "code",
   "execution_count": 24,
   "id": "4aa1c541",
   "metadata": {},
   "outputs": [
    {
     "data": {
      "text/html": [
       "<div>\n",
       "<style scoped>\n",
       "    .dataframe tbody tr th:only-of-type {\n",
       "        vertical-align: middle;\n",
       "    }\n",
       "\n",
       "    .dataframe tbody tr th {\n",
       "        vertical-align: top;\n",
       "    }\n",
       "\n",
       "    .dataframe thead th {\n",
       "        text-align: right;\n",
       "    }\n",
       "</style>\n",
       "<table border=\"1\" class=\"dataframe\">\n",
       "  <thead>\n",
       "    <tr style=\"text-align: right;\">\n",
       "      <th></th>\n",
       "      <th>Company Name</th>\n",
       "      <th>ISIN</th>\n",
       "      <th>Near term - Target Status</th>\n",
       "      <th>Near term - Target Classification</th>\n",
       "      <th>Near term - Target Year</th>\n",
       "      <th>Net-Zero Committed</th>\n",
       "    </tr>\n",
       "  </thead>\n",
       "  <tbody>\n",
       "    <tr>\n",
       "      <th>0</th>\n",
       "      <td>OSB Group PLC</td>\n",
       "      <td>GB00BLDRH360</td>\n",
       "      <td>Committed</td>\n",
       "      <td>NaN</td>\n",
       "      <td>NaN</td>\n",
       "      <td>Yes</td>\n",
       "    </tr>\n",
       "  </tbody>\n",
       "</table>\n",
       "</div>"
      ],
      "text/plain": [
       "    Company Name          ISIN Near term - Target Status  \\\n",
       "0  OSB Group PLC  GB00BLDRH360                 Committed   \n",
       "\n",
       "  Near term - Target Classification Near term - Target Year Net-Zero Committed  \n",
       "0                               NaN                     NaN                Yes  "
      ]
     },
     "execution_count": 24,
     "metadata": {},
     "output_type": "execute_result"
    }
   ],
   "source": [
    "#checking the df\n",
    "climate_target.head(1)"
   ]
  },
  {
   "cell_type": "code",
   "execution_count": 25,
   "id": "5387e7fc",
   "metadata": {},
   "outputs": [
    {
     "data": {
      "text/plain": [
       "Company Name                         0.000000\n",
       "ISIN                                 0.600142\n",
       "Near term - Target Status            0.000000\n",
       "Near term - Target Classification    0.542156\n",
       "Near term - Target Year              0.551761\n",
       "Net-Zero Committed                   0.000000\n",
       "dtype: float64"
      ]
     },
     "execution_count": 25,
     "metadata": {},
     "output_type": "execute_result"
    }
   ],
   "source": [
    "#checking the null\n",
    "climate_target.isnull().mean()"
   ]
  },
  {
   "cell_type": "code",
   "execution_count": 26,
   "id": "b968e730",
   "metadata": {},
   "outputs": [],
   "source": [
    "#renaming columns \n",
    "climate_target.rename(columns={'Company Name':'company_name','ISIN':'company_isin', 'Near term - Target Status':'target_status', \n",
    "                              'Near term - Target Classification':'target_classification', \n",
    "                              'Near term - Target Year':'target_year','Net-Zero Committed':'net_zero_committed'}, inplace=True)\n",
    "climate_target.drop(columns='company_name', inplace=True)"
   ]
  },
  {
   "cell_type": "code",
   "execution_count": 27,
   "id": "8db724cd",
   "metadata": {},
   "outputs": [
    {
     "data": {
      "text/plain": [
       "Committed      0.542512\n",
       "Targets Set    0.454287\n",
       "Targets set    0.003202\n",
       "Name: target_status, dtype: float64"
      ]
     },
     "execution_count": 27,
     "metadata": {},
     "output_type": "execute_result"
    }
   ],
   "source": [
    "#checking the different target status\n",
    "climate_target['target_status'].value_counts(normalize=True)"
   ]
  },
  {
   "cell_type": "code",
   "execution_count": 28,
   "id": "5fae5bb1",
   "metadata": {},
   "outputs": [],
   "source": [
    "#cleaning the target\n",
    "def target(value):\n",
    "    value = value.replace(' ', '_').lower()\n",
    "    return value\n",
    "climate_target['target_status'] = climate_target['target_status'].map(target)"
   ]
  },
  {
   "cell_type": "code",
   "execution_count": 29,
   "id": "2437089a",
   "metadata": {},
   "outputs": [
    {
     "data": {
      "text/plain": [
       "committed      0.542512\n",
       "targets_set    0.457488\n",
       "Name: target_status, dtype: float64"
      ]
     },
     "execution_count": 29,
     "metadata": {},
     "output_type": "execute_result"
    }
   ],
   "source": [
    "#checking the different target status\n",
    "climate_target['target_status'].value_counts(normalize=True)"
   ]
  },
  {
   "cell_type": "code",
   "execution_count": 30,
   "id": "152b633d",
   "metadata": {},
   "outputs": [],
   "source": [
    "#filling null value before the merge to avoid conflict\n",
    "climate_target['company_isin'].fillna('not_available', inplace=True)\n",
    "climate_target['target_classification'].fillna('not_available', inplace=True)\n",
    "climate_target['target_year'].fillna('not_available', inplace=True)"
   ]
  },
  {
   "cell_type": "code",
   "execution_count": 31,
   "id": "f26ea17d",
   "metadata": {},
   "outputs": [
    {
     "data": {
      "text/plain": [
       "company_isin             0.0\n",
       "target_status            0.0\n",
       "target_classification    0.0\n",
       "target_year              0.0\n",
       "net_zero_committed       0.0\n",
       "dtype: float64"
      ]
     },
     "execution_count": 31,
     "metadata": {},
     "output_type": "execute_result"
    }
   ],
   "source": [
    "#checking null value\n",
    "climate_target.isnull().mean()"
   ]
  },
  {
   "cell_type": "code",
   "execution_count": 32,
   "id": "1490583a",
   "metadata": {},
   "outputs": [],
   "source": [
    "# I need to put companies in group according to the way they decided to determine their target;\n",
    "# companies have listed either one or more than one target year for their emission reducton roadmap\n",
    "# companies that have listed one single year I group them as either in 2030 or later/earlier tahn 2030\n",
    "# companies that have listed two or three target years I grouped them as 2030 and earlier/ 2030 and later/ later earlier than 2030\n",
    "def map_target(value):\n",
    "    if value == 'not_available':\n",
    "        return value\n",
    "    else:\n",
    "        years = value.split(',')\n",
    "        years = [int(i) for i in years]\n",
    "\n",
    "        if len(years)==1:\n",
    "            if years[0] ==2030:\n",
    "                return '2030'\n",
    "            elif years[0] >2030:\n",
    "                return 'later than 2030'\n",
    "            elif years[0]<2030:\n",
    "                return 'earlier than 2030'\n",
    "\n",
    "        if len(years)>1:\n",
    "            if max(years) <= 2030:\n",
    "                return '2030 and earlier'\n",
    "            elif min(years)>=2030:\n",
    "                return '2030 and later'\n",
    "            else:\n",
    "                return 'earlier and later 2030'\n",
    "\n",
    "climate_target['target_year'] = climate_target['target_year'].map(map_target)"
   ]
  },
  {
   "cell_type": "code",
   "execution_count": 33,
   "id": "ff28ab92",
   "metadata": {},
   "outputs": [],
   "source": [
    "#adding up status with classification and target year. That's because classification and year are filled in only if status is == target set\n",
    "#there is only one compnay that committed with classification and year. And I am exluding it form my analysis\n",
    "climate_target['target_status_class_year'] =  climate_target['target_status'] + '-' + climate_target['target_classification'] +'-' + climate_target['target_year'].copy()\n",
    "climate_target = climate_target[climate_target['target_status_class_year']!='committed-1.5°C-2030']\n",
    "climate_target.drop(columns=['target_status', 'target_classification', 'target_year'], inplace=True)"
   ]
  },
  {
   "cell_type": "code",
   "execution_count": 34,
   "id": "83edf217",
   "metadata": {},
   "outputs": [
    {
     "data": {
      "text/plain": [
       "array(['committed-not_available-not_available', 'targets_set-1.5°C-2030',\n",
       "       'targets_set-Well-below 2°C-2030',\n",
       "       'targets_set-1.5°C-not_available',\n",
       "       'targets_set-Well-below 2°C-not_available',\n",
       "       'targets_set-1.5°C-2030 and later',\n",
       "       'targets_set-1.5°C-earlier than 2030',\n",
       "       'targets_set-2°C-2030 and earlier', 'targets_set-2°C-2030',\n",
       "       'targets_set-1.5°C-2030 and earlier',\n",
       "       'targets_set-1.5°C-later than 2030',\n",
       "       'targets_set-Well-below 2°C-earlier than 2030',\n",
       "       'targets_set-2°C-earlier than 2030',\n",
       "       'targets_set-Well-below 2°C-2030 and earlier',\n",
       "       'targets_set-1.5°C/Well-below 2°C-2030',\n",
       "       'targets_set-1.5°C-earlier and later 2030',\n",
       "       'targets_set-Well-below 2°C-later than 2030',\n",
       "       'targets_set-Well-below 2°C-earlier and later 2030',\n",
       "       'targets_set-Well-below 2°C-2030 and later',\n",
       "       'targets_set-2°C-later than 2030'], dtype=object)"
      ]
     },
     "execution_count": 34,
     "metadata": {},
     "output_type": "execute_result"
    }
   ],
   "source": [
    "#checking unique value\n",
    "climate_target['target_status_class_year'].unique()"
   ]
  },
  {
   "cell_type": "code",
   "execution_count": 35,
   "id": "ef16c0e8",
   "metadata": {},
   "outputs": [
    {
     "data": {
      "text/plain": [
       "array(['committed-not_available-not_available', 'targets_set-1.5°C-2030',\n",
       "       'targets_set-Well-below 2°C-2030',\n",
       "       'targets_set-1.5°C-not_available',\n",
       "       'targets_set-Well-below 2°C-not_available',\n",
       "       'targets_set-1.5°C-2030 and later',\n",
       "       'targets_set-1.5°C-earlier than 2030',\n",
       "       'targets_set-2°C-2030 and earlier', 'targets_set-2°C-2030',\n",
       "       'targets_set-1.5°C-2030 and earlier',\n",
       "       'targets_set-1.5°C-later than 2030',\n",
       "       'targets_set-Well-below 2°C-earlier than 2030',\n",
       "       'targets_set-2°C-earlier than 2030',\n",
       "       'targets_set-Well-below 2°C-2030 and earlier',\n",
       "       'targets_set-1.5°C/Well-below 2°C-2030',\n",
       "       'targets_set-1.5°C-earlier and later 2030',\n",
       "       'targets_set-Well-below 2°C-later than 2030',\n",
       "       'targets_set-Well-below 2°C-earlier and later 2030',\n",
       "       'targets_set-Well-below 2°C-2030 and later',\n",
       "       'targets_set-2°C-later than 2030'], dtype=object)"
      ]
     },
     "execution_count": 35,
     "metadata": {},
     "output_type": "execute_result"
    }
   ],
   "source": [
    "climate_target['target_status_class_year'].unique()"
   ]
  },
  {
   "cell_type": "code",
   "execution_count": 36,
   "id": "c24a52c9",
   "metadata": {},
   "outputs": [],
   "source": [
    "#after a series of ieteration I realized that clustering targets with temperature target does not improve model\n",
    "#thus I am simply using whetehr company committed or target set\n",
    "def reducing_info(value):\n",
    "    value = value.split('-')\n",
    "    return value[0]\n",
    "climate_target['target_status_class_year'] = climate_target['target_status_class_year'].map(reducing_info)"
   ]
  },
  {
   "cell_type": "code",
   "execution_count": 37,
   "id": "f9ba86ab",
   "metadata": {},
   "outputs": [],
   "source": [
    "emiss_climate_msci = pd.merge(emiss_msci, climate_target, \n",
    "                                   left_on =['company_isin'], \n",
    "                                   right_on=['company_isin'], \n",
    "                                   how='left')"
   ]
  },
  {
   "cell_type": "code",
   "execution_count": 38,
   "id": "9c4cdb41",
   "metadata": {},
   "outputs": [],
   "source": [
    "#filling nan for climate information: \n",
    "# if a company did not communicate roadmapt to reach netzero commitment filled with not-taking action\n",
    "# if a company did not commit to netzero filled with not-taking action\n",
    "emiss_climate_msci['target_status_class_year'].fillna('not_taking_action', inplace=True)\n",
    "emiss_climate_msci['net_zero_committed'].fillna('not_taking_action', inplace=True)"
   ]
  },
  {
   "cell_type": "code",
   "execution_count": 39,
   "id": "551d4ac2",
   "metadata": {},
   "outputs": [
    {
     "data": {
      "text/plain": [
       "0"
      ]
     },
     "execution_count": 39,
     "metadata": {},
     "output_type": "execute_result"
    }
   ],
   "source": [
    "#checking number of companies that did take action but did not disclose the roadmap\n",
    "len(emiss_climate_msci[(emiss_climate_msci['target_status_class_year']=='undisclosed')&(emiss_climate_msci['net_zero_committed']!='not_taking_action')])"
   ]
  },
  {
   "cell_type": "markdown",
   "id": "862abb97",
   "metadata": {},
   "source": [
    "**Step 7** Merging Company-Level Information with Country Emissions"
   ]
  },
  {
   "cell_type": "code",
   "execution_count": 40,
   "id": "2dea6c9d",
   "metadata": {},
   "outputs": [],
   "source": [
    "# I need to first change the date as they are slightly different\n",
    "dates = {'2010-03-31': '2010-03-31', '2010-06-30':'2010-06-30', '2010-09-30':'2010-09-30', '2010-12-31':'2010-12-31',\n",
    "       '2011-03-31': '2011-03-31', '2011-06-30':'2011-06-30', '2011-09-30':'2011-09-30', '2011-12-30':'2011-12-31',\n",
    "       '2012-03-30': '2012-03-31', '2012-06-29':'2012-06-30', '2012-09-28':'2012-09-30', '2012-12-31':'2012-12-31',\n",
    "       '2013-03-28': '2013-03-31', '2013-06-28':'2013-06-30', '2013-09-30':'2013-09-30', '2013-12-31':'2013-12-31',\n",
    "       '2014-03-31': '2014-03-31', '2014-06-30':'2014-06-30', '2014-09-30':'2014-09-30', '2014-12-31':'2014-12-31',\n",
    "       '2015-03-31': '2015-03-31', '2015-06-30':'2015-06-30', '2015-09-30':'2015-09-30', '2015-12-31':'2015-12-31',\n",
    "       '2016-03-31': '2016-03-31', '2016-06-30':'2016-06-30', '2016-09-30':'2016-09-30', '2016-12-30':'2016-12-31',\n",
    "       '2017-03-31': '2017-03-31', '2017-06-30':'2017-06-30', '2017-09-29':'2017-09-30', '2017-12-29':'2017-12-31',\n",
    "       '2018-03-29': '2018-03-31', '2018-06-29':'2018-06-30', '2018-09-28':'2018-09-30', '2018-12-31':'2018-12-31',\n",
    "       '2019-03-29': '2019-03-31', '2019-06-28':'2019-06-30', '2019-09-30':'2019-09-30', '2019-12-31':'2019-12-31',\n",
    "       '2020-03-31': '2020-03-31', '2020-06-30':'2020-06-30', '2020-09-30':'2020-09-30', '2020-12-31':'2020-12-31',\n",
    "       '2021-03-31': '2021-03-31', '2021-06-30':'2021-06-30', '2021-09-30':'2021-09-30', '2021-12-31':'2021-12-31',\n",
    "       '2022-03-31': '2022-03-31'}\n",
    "def map_date(date):\n",
    "    if date in dates.keys():\n",
    "        return dates.get(date)\n",
    "    return np.nan\n",
    "emiss_climate_msci['t_date'] = emiss_climate_msci['t_date'].apply(map_date)"
   ]
  },
  {
   "cell_type": "code",
   "execution_count": 41,
   "id": "7fd4ea51",
   "metadata": {},
   "outputs": [],
   "source": [
    "#merging\n",
    "df = pd.merge(emiss_climate_msci, country_emission, \n",
    "                                   left_on =['country_isin', 't_date'], \n",
    "                                   right_on=['country_isin', 'Year'], \n",
    "                                   how='left')"
   ]
  },
  {
   "cell_type": "code",
   "execution_count": 42,
   "id": "5d0d2a2d",
   "metadata": {},
   "outputs": [
    {
     "data": {
      "text/plain": [
       "(61214, 40)"
      ]
     },
     "execution_count": 42,
     "metadata": {},
     "output_type": "execute_result"
    }
   ],
   "source": [
    "#checking shape \n",
    "df.shape"
   ]
  },
  {
   "cell_type": "code",
   "execution_count": 43,
   "id": "90a8003e",
   "metadata": {},
   "outputs": [
    {
     "data": {
      "text/html": [
       "<div>\n",
       "<style scoped>\n",
       "    .dataframe tbody tr th:only-of-type {\n",
       "        vertical-align: middle;\n",
       "    }\n",
       "\n",
       "    .dataframe tbody tr th {\n",
       "        vertical-align: top;\n",
       "    }\n",
       "\n",
       "    .dataframe thead th {\n",
       "        text-align: right;\n",
       "    }\n",
       "</style>\n",
       "<table border=\"1\" class=\"dataframe\">\n",
       "  <thead>\n",
       "    <tr style=\"text-align: right;\">\n",
       "      <th></th>\n",
       "      <th>t_date</th>\n",
       "      <th>fsym_id</th>\n",
       "      <th>ticker_region</th>\n",
       "      <th>company_isin</th>\n",
       "      <th>gics_sector_name</th>\n",
       "      <th>gics_sub_industry_name</th>\n",
       "      <th>port_weight</th>\n",
       "      <th>returns</th>\n",
       "      <th>region</th>\n",
       "      <th>market_value</th>\n",
       "      <th>...</th>\n",
       "      <th>industry</th>\n",
       "      <th>manufact_construction</th>\n",
       "      <th>transport</th>\n",
       "      <th>electr_heat</th>\n",
       "      <th>buildings</th>\n",
       "      <th>fugitive_emission</th>\n",
       "      <th>other_fuel_combustion</th>\n",
       "      <th>aviation_shipping</th>\n",
       "      <th>Entity</th>\n",
       "      <th>Year</th>\n",
       "    </tr>\n",
       "  </thead>\n",
       "  <tbody>\n",
       "    <tr>\n",
       "      <th>0</th>\n",
       "      <td>2013-09-30</td>\n",
       "      <td>S7RLQ2-R</td>\n",
       "      <td>CPF.R-TH</td>\n",
       "      <td>TH0101010R14</td>\n",
       "      <td>Consumer Staples</td>\n",
       "      <td>Packaged Foods &amp; Meats</td>\n",
       "      <td>0.02767</td>\n",
       "      <td>-0.065453</td>\n",
       "      <td>Asia/Pacific Ex Japan</td>\n",
       "      <td>NaN</td>\n",
       "      <td>...</td>\n",
       "      <td>9595000.0</td>\n",
       "      <td>12640000.0</td>\n",
       "      <td>15615000.0</td>\n",
       "      <td>28695000.0</td>\n",
       "      <td>1875000.0</td>\n",
       "      <td>3187500.0</td>\n",
       "      <td>5205000.0</td>\n",
       "      <td>3535000.0</td>\n",
       "      <td>Thailand</td>\n",
       "      <td>2013-09-30</td>\n",
       "    </tr>\n",
       "  </tbody>\n",
       "</table>\n",
       "<p>1 rows × 40 columns</p>\n",
       "</div>"
      ],
      "text/plain": [
       "       t_date   fsym_id ticker_region  company_isin  gics_sector_name  \\\n",
       "0  2013-09-30  S7RLQ2-R      CPF.R-TH  TH0101010R14  Consumer Staples   \n",
       "\n",
       "   gics_sub_industry_name  port_weight   returns                 region  \\\n",
       "0  Packaged Foods & Meats      0.02767 -0.065453  Asia/Pacific Ex Japan   \n",
       "\n",
       "   market_value  ...   industry manufact_construction   transport electr_heat  \\\n",
       "0           NaN  ...  9595000.0            12640000.0  15615000.0  28695000.0   \n",
       "\n",
       "   buildings  fugitive_emission  other_fuel_combustion aviation_shipping  \\\n",
       "0  1875000.0          3187500.0              5205000.0         3535000.0   \n",
       "\n",
       "     Entity        Year  \n",
       "0  Thailand  2013-09-30  \n",
       "\n",
       "[1 rows x 40 columns]"
      ]
     },
     "execution_count": 43,
     "metadata": {},
     "output_type": "execute_result"
    }
   ],
   "source": [
    "#checking head\n",
    "df.head(1)"
   ]
  },
  {
   "cell_type": "markdown",
   "id": "2966670d",
   "metadata": {},
   "source": [
    "**Final Step** I want to feature engineer emissions as follow: i) dividing everything by 1_000 to make them more readable: from tons to thousands of tons; ii) I want to add scope 1 and scope 2 together and separately adding scope 1 2 and 3. In the EDA&ttest jupyter notebook I will be then running 5 different ttest to understand which targets will work better for both regression and classification modeling  "
   ]
  },
  {
   "cell_type": "code",
   "execution_count": 44,
   "id": "7a0afb6f",
   "metadata": {},
   "outputs": [],
   "source": [
    "#Deviding everything by 1_000\n",
    "df['scope_1_tonnes']=df['scope_1_tonnes'].map(lambda x: x/1_000)\n",
    "df['scope_2_tonnes']=df['scope_2_tonnes'].map(lambda x: x/1_000)\n",
    "df['scope_3_tonnes']=df['scope_3_tonnes'].map(lambda x: x/1_000) \n",
    "#Adding emissions\n",
    "df['all_emission'] = df['scope_1_tonnes'] + df['scope_2_tonnes'] + df['scope_3_tonnes']\n",
    "df['scope1_2_emission'] = df['scope_1_tonnes'] + df['scope_2_tonnes']\n",
    "#removing one row with emission =0\n",
    "df= df[df['scope1_2_emission']>0]"
   ]
  },
  {
   "cell_type": "code",
   "execution_count": 45,
   "id": "672a4de8",
   "metadata": {},
   "outputs": [],
   "source": [
    "#filtering further everything before 2021 as company emissions were provided only for period 2012-2020\n",
    "df = df[df['t_date']<'2021-01-01']\n",
    "#checking lastly null values and dropping them \n",
    "df.isnull().mean()\n",
    "df.dropna(inplace=True)\n",
    "#dropping final columns\n",
    "\n",
    "df.drop(columns=['Year', 'ticker_region', 'company_isin',\n",
    "                  'market_value', 'country_isin', 'country_name' ], inplace=True)\n"
   ]
  },
  {
   "cell_type": "code",
   "execution_count": 46,
   "id": "55cbfd82",
   "metadata": {},
   "outputs": [],
   "source": [
    "#Saving Final DF\n",
    "#df.to_csv('../data/output/msci_company_country.csv', index=False)"
   ]
  },
  {
   "cell_type": "code",
   "execution_count": 47,
   "id": "0c962a44",
   "metadata": {},
   "outputs": [
    {
     "data": {
      "text/plain": [
       "array(['not_taking_action', 'targets_set', 'committed'], dtype=object)"
      ]
     },
     "execution_count": 47,
     "metadata": {},
     "output_type": "execute_result"
    }
   ],
   "source": [
    "df['target_status_class_year'].unique()"
   ]
  },
  {
   "cell_type": "code",
   "execution_count": 48,
   "id": "0289a6d3",
   "metadata": {},
   "outputs": [
    {
     "data": {
      "text/plain": [
       "Index(['t_date', 'fsym_id', 'gics_sector_name', 'gics_sub_industry_name',\n",
       "       'port_weight', 'returns', 'region', 'company_cap', 'country_economy',\n",
       "       'scope_1_tonnes', 'scope_2_tonnes', 'scope_3_tonnes',\n",
       "       'net_zero_committed', 'target_status_class_year', 'emissions_lucf',\n",
       "       'emissions_factor(kg/kwh)', 'emissions_gdp(kg/$ppp)',\n",
       "       'emissions_in_trade', 'co2_oil', 'co2_cement', 'co2_coal', 'co2_gas',\n",
       "       'agriculture', 'land_use_forestry', 'waste', 'industry',\n",
       "       'manufact_construction', 'transport', 'electr_heat', 'buildings',\n",
       "       'fugitive_emission', 'other_fuel_combustion', 'aviation_shipping',\n",
       "       'Entity', 'all_emission', 'scope1_2_emission'],\n",
       "      dtype='object')"
      ]
     },
     "execution_count": 48,
     "metadata": {},
     "output_type": "execute_result"
    }
   ],
   "source": [
    "df.columns"
   ]
  },
  {
   "cell_type": "code",
   "execution_count": 50,
   "id": "79bbc90c",
   "metadata": {},
   "outputs": [
    {
     "data": {
      "text/plain": [
       "t_date                       object\n",
       "fsym_id                      object\n",
       "gics_sector_name             object\n",
       "gics_sub_industry_name       object\n",
       "port_weight                 float64\n",
       "returns                     float64\n",
       "region                       object\n",
       "company_cap                  object\n",
       "country_economy              object\n",
       "scope_1_tonnes              float64\n",
       "scope_2_tonnes              float64\n",
       "scope_3_tonnes              float64\n",
       "net_zero_committed           object\n",
       "target_status_class_year     object\n",
       "emissions_lucf              float64\n",
       "emissions_factor(kg/kwh)    float64\n",
       "emissions_gdp(kg/$ppp)      float64\n",
       "emissions_in_trade          float64\n",
       "co2_oil                     float64\n",
       "co2_cement                  float64\n",
       "co2_coal                    float64\n",
       "co2_gas                     float64\n",
       "agriculture                 float64\n",
       "land_use_forestry           float64\n",
       "waste                       float64\n",
       "industry                    float64\n",
       "manufact_construction       float64\n",
       "transport                   float64\n",
       "electr_heat                 float64\n",
       "buildings                   float64\n",
       "fugitive_emission           float64\n",
       "other_fuel_combustion       float64\n",
       "aviation_shipping           float64\n",
       "Entity                       object\n",
       "all_emission                float64\n",
       "scope1_2_emission           float64\n",
       "dtype: object"
      ]
     },
     "execution_count": 50,
     "metadata": {},
     "output_type": "execute_result"
    }
   ],
   "source": [
    "df.dtypes"
   ]
  },
  {
   "cell_type": "code",
   "execution_count": 51,
   "id": "63564aba",
   "metadata": {},
   "outputs": [
    {
     "data": {
      "text/plain": [
       "145      0.028823\n",
       "149      0.054051\n",
       "157     -0.133634\n",
       "167     -0.029484\n",
       "211     -0.209121\n",
       "           ...   \n",
       "60972   -0.077764\n",
       "60973    0.039438\n",
       "60974   -0.059470\n",
       "60975    0.097190\n",
       "60976    0.108994\n",
       "Name: returns, Length: 46776, dtype: float64"
      ]
     },
     "execution_count": 51,
     "metadata": {},
     "output_type": "execute_result"
    }
   ],
   "source": [
    "df['returns']"
   ]
  },
  {
   "cell_type": "code",
   "execution_count": null,
   "id": "c2c0aa3b",
   "metadata": {},
   "outputs": [],
   "source": []
  }
 ],
 "metadata": {
  "kernelspec": {
   "display_name": "Python 3 (ipykernel)",
   "language": "python",
   "name": "python3"
  },
  "language_info": {
   "codemirror_mode": {
    "name": "ipython",
    "version": 3
   },
   "file_extension": ".py",
   "mimetype": "text/x-python",
   "name": "python",
   "nbconvert_exporter": "python",
   "pygments_lexer": "ipython3",
   "version": "3.9.7"
  }
 },
 "nbformat": 4,
 "nbformat_minor": 5
}
