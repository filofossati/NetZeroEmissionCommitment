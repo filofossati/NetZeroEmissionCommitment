{
 "cells": [
  {
   "cell_type": "markdown",
   "id": "fef65cd9",
   "metadata": {},
   "source": [
    "## Classification Model "
   ]
  },
  {
   "cell_type": "markdown",
   "id": "8ef57fbc",
   "metadata": {},
   "source": [
    "In this notebook I am creating a classification model to predict whether or not a company commited to netzero.    The notebook is structured as follow:\n",
    "1. Section 1 - library and dataset preparation\n",
    "2. Section 2 - model selction part 1; here I am creating a pipeline to evaluate which model perform better without gridsearching. Models with better perfomance will be passed in Section 3\n",
    "3. Section 3 - model selection part 2; in this section I am gridsearching through the models selected in Section 2. The model that present best accuracy and recall scores is the one that will be selected for further tuning and saved for the streamlit app"
   ]
  },
  {
   "cell_type": "markdown",
   "id": "7f7470b3",
   "metadata": {},
   "source": [
    "## Section 1  - Import and dataframe preparation"
   ]
  },
  {
   "cell_type": "code",
   "execution_count": 1,
   "id": "7f5d3b93",
   "metadata": {},
   "outputs": [],
   "source": [
    "import pandas as pd\n",
    "import matplotlib.pyplot as plt\n",
    "import numpy as np\n",
    "import seaborn as sns\n",
    "import pickle\n",
    "\n",
    "import sklearn.metrics as metrics\n",
    "\n",
    "from sklearn.linear_model import LogisticRegression\n",
    "from sklearn.preprocessing import StandardScaler\n",
    "from sklearn.model_selection import cross_val_score, train_test_split, GridSearchCV, RandomizedSearchCV\n",
    "from sklearn.pipeline import Pipeline\n",
    "from sklearn.tree import DecisionTreeClassifier\n",
    "from sklearn.neighbors import KNeighborsClassifier\n",
    "from sklearn.ensemble import RandomForestClassifier, BaggingClassifier,  AdaBoostClassifier\n"
   ]
  },
  {
   "cell_type": "code",
   "execution_count": 2,
   "id": "4793c6d6",
   "metadata": {},
   "outputs": [],
   "source": [
    "df = pd.read_csv('../data/output/msci_company_country.csv')"
   ]
  },
  {
   "cell_type": "code",
   "execution_count": 3,
   "id": "57e23dc0",
   "metadata": {},
   "outputs": [],
   "source": [
    "df = df.drop(columns=['scope_1_tonnes','scope_2_tonnes', 'all_emission', 'gics_sub_industry_name','Entity',\n",
    "                       'agriculture', 'land_use_forestry', 'waste', 'industry','manufact_construction', 'transport', \n",
    "                 'electr_heat', 'buildings','fugitive_emission', 'other_fuel_combustion', 'aviation_shipping', \n",
    "                       'port_weight', 'returns', 'emissions_lucf','emissions_factor(kg/kwh)', \n",
    "                       'emissions_gdp(kg/$ppp)','emissions_in_trade', 'co2_oil', 'co2_cement', \n",
    "                       'co2_coal', 'co2_gas', 't_date' ]).copy()\n",
    "#I want to predict only for company that are committing or not to netzero\n",
    "df = df[df['net_zero_committed']!='not_taking_action']"
   ]
  },
  {
   "cell_type": "code",
   "execution_count": 4,
   "id": "117c00a0",
   "metadata": {},
   "outputs": [],
   "source": [
    "#dummifying the categorical column\n",
    "df_dummy  = pd.get_dummies(df, columns=['gics_sector_name',  'region',  'company_cap', \n",
    "                             'country_economy',  'target_status_class_year'])"
   ]
  },
  {
   "cell_type": "code",
   "execution_count": 5,
   "id": "fd254239",
   "metadata": {},
   "outputs": [
    {
     "data": {
      "text/plain": [
       "535"
      ]
     },
     "execution_count": 5,
     "metadata": {},
     "output_type": "execute_result"
    }
   ],
   "source": [
    "#checking number of companies I will be doing the analysis for\n",
    "len(df_dummy['fsym_id'].unique())"
   ]
  },
  {
   "cell_type": "code",
   "execution_count": 6,
   "id": "33e1ea98",
   "metadata": {},
   "outputs": [],
   "source": [
    "#now I can drop these last two columns for modeling\n",
    "df_dummy.drop(columns=['fsym_id'], inplace=True)"
   ]
  },
  {
   "cell_type": "markdown",
   "id": "09d8ce3f",
   "metadata": {},
   "source": [
    "## Section1 -  Model Selection Part 1"
   ]
  },
  {
   "cell_type": "markdown",
   "id": "38b5b995",
   "metadata": {},
   "source": [
    "**Step 1** Assembling Predictors and looking at the null models"
   ]
  },
  {
   "cell_type": "code",
   "execution_count": 7,
   "id": "b29b872d",
   "metadata": {},
   "outputs": [],
   "source": [
    "df_dummy1 = df_dummy.copy()"
   ]
  },
  {
   "cell_type": "code",
   "execution_count": 8,
   "id": "4af2c53f",
   "metadata": {},
   "outputs": [],
   "source": [
    "#assembling my features; scope 3 is different from 1 and 2 and thus it will still be a predictor\n",
    "features1 = [col for col in df_dummy1.columns if col !=  'net_zero_committed']\n",
    "X = df_dummy1[features1]\n",
    "y = df_dummy1['net_zero_committed'].map({'Yes':1, 'No':0})\n",
    "X_train, X_test, y_train, y_test = train_test_split(X, y, random_state=42)"
   ]
  },
  {
   "cell_type": "code",
   "execution_count": 9,
   "id": "b21fe03a",
   "metadata": {},
   "outputs": [
    {
     "data": {
      "text/plain": [
       "No     0.576465\n",
       "Yes    0.423535\n",
       "Name: net_zero_committed, dtype: float64"
      ]
     },
     "execution_count": 9,
     "metadata": {},
     "output_type": "execute_result"
    }
   ],
   "source": [
    "#Null model\n",
    "df_dummy1['net_zero_committed'].value_counts(normalize=True)"
   ]
  },
  {
   "cell_type": "code",
   "execution_count": 10,
   "id": "f673ac33",
   "metadata": {},
   "outputs": [
    {
     "data": {
      "text/plain": [
       "26"
      ]
     },
     "execution_count": 10,
     "metadata": {},
     "output_type": "execute_result"
    }
   ],
   "source": [
    "len(X.columns)"
   ]
  },
  {
   "cell_type": "markdown",
   "id": "cbe9eb73",
   "metadata": {},
   "source": [
    "**Step 2** Assembling classification Pipeline"
   ]
  },
  {
   "cell_type": "code",
   "execution_count": 11,
   "id": "191a059f",
   "metadata": {},
   "outputs": [],
   "source": [
    "#Assembling pipeline \n",
    "pipelines = [\n",
    "    ('LogReg'        , (Pipeline([ ('LR'   , LogisticRegression(max_iter=1000)         )]))),\n",
    "    ('DecTree'    , (Pipeline([ ('TREE' , DecisionTreeClassifier()    )]))),\n",
    "    ('BagReg'     , (Pipeline([ ('BAG'  , BaggingClassifier()         )]))),\n",
    "    ('RandFor'    , (Pipeline([ ('RAND' , RandomForestClassifier()    )]))),\n",
    "    ('AdaBoost'     , (Pipeline([ ('ADA'  , AdaBoostClassifier()        )]))),\n",
    "    ('KNN'     , (Pipeline([ ('sc' , StandardScaler())    ,('KNN'  , KNeighborsClassifier()  )]))),\n",
    "]"
   ]
  },
  {
   "cell_type": "markdown",
   "id": "24d9d617",
   "metadata": {},
   "source": [
    "**Step 3** Fitting and Scoring all models"
   ]
  },
  {
   "cell_type": "code",
   "execution_count": 12,
   "id": "e783312d",
   "metadata": {
    "scrolled": false
   },
   "outputs": [
    {
     "name": "stdout",
     "output_type": "stream",
     "text": [
      "LogReg\n",
      "Train: 0.629, Test: 0.624, CV: 0.635\n",
      "DecTree\n",
      "Train: 1.0, Test: 0.869, CV: 0.86\n",
      "BagReg\n",
      "Train: 0.99, Test: 0.88, CV: 0.874\n",
      "RandFor\n",
      "Train: 1.0, Test: 0.888, CV: 0.884\n",
      "AdaBoost\n",
      "Train: 0.654, Test: 0.647, CV: 0.652\n",
      "KNN\n",
      "Train: 0.913, Test: 0.87, CV: 0.869\n"
     ]
    }
   ],
   "source": [
    "for pipe_name, model in pipelines:\n",
    "    print(pipe_name)\n",
    "    model.fit(X_train, y_train)\n",
    "    trainscore = round(model.score(X_train, y_train),3)\n",
    "    testscore = round(model.score(X_test, y_test),3)\n",
    "    crossval = round(cross_val_score(model, X_train, y_train).mean(),3)\n",
    "    print(f'Train: {trainscore}, Test: {testscore}, CV: {crossval}')"
   ]
  },
  {
   "cell_type": "markdown",
   "id": "63af94d5",
   "metadata": {},
   "source": [
    "**Step 5** Predicting Emission and Evaluating The model"
   ]
  },
  {
   "cell_type": "code",
   "execution_count": 13,
   "id": "3dd9cb78",
   "metadata": {},
   "outputs": [
    {
     "name": "stdout",
     "output_type": "stream",
     "text": [
      "LogReg\n",
      "precision score: 0.5814977973568282\n",
      "accuracy score: 0.6243705941591138\n",
      "recall score: 0.4167324388318863\n",
      "specificity score: 0.7780373831775701\n",
      "DecTree\n",
      "precision score: 0.8373729476153244\n",
      "accuracy score: 0.8643840214837194\n",
      "recall score: 0.8453038674033149\n",
      "specificity score: 0.8785046728971962\n",
      "BagReg\n",
      "precision score: 0.8666127728375101\n",
      "accuracy score: 0.879154078549849\n",
      "recall score: 0.846093133385951\n",
      "specificity score: 0.9036214953271028\n",
      "RandFor\n",
      "precision score: 0.86697965571205\n",
      "accuracy score: 0.8895602551191675\n",
      "recall score: 0.8745067087608525\n",
      "specificity score: 0.9007009345794392\n",
      "AdaBoost\n",
      "precision score: 0.6172300981461287\n",
      "accuracy score: 0.6468613628734474\n",
      "recall score: 0.44672454617206\n",
      "specificity score: 0.7949766355140186\n",
      "KNN\n",
      "precision score: 0.8342205323193916\n",
      "accuracy score: 0.8697549513259483\n",
      "recall score: 0.8658247829518547\n",
      "specificity score: 0.8726635514018691\n"
     ]
    }
   ],
   "source": [
    "# 1 is someone eligible for our\n",
    "for pipe_name, model in pipelines:\n",
    "    print(pipe_name)\n",
    "    model.fit(X_train, y_train)\n",
    "    pred = model.predict(X_test)\n",
    "    tn, fp, fn, tp = metrics.confusion_matrix(y_test, pred).ravel()\n",
    "    print(f'precision score: {metrics.precision_score(y_test, pred)}')\n",
    "    print(f'accuracy score: {metrics.accuracy_score(y_test, pred)}')\n",
    "    print(f'recall score: {metrics.recall_score(y_test, pred)}')\n",
    "    print(f'specificity score: {tn/(tn + fp)}')"
   ]
  },
  {
   "cell_type": "code",
   "execution_count": 14,
   "id": "4e25fc87",
   "metadata": {},
   "outputs": [
    {
     "name": "stdout",
     "output_type": "stream",
     "text": [
      "LogReg\n",
      "f1 score test: 0.4855172413793103\n",
      "f1 score train: 0.48381070983810714\n",
      "DecTree\n",
      "f1 score test: 0.8467267738141905\n",
      "f1 score train: 1.0\n",
      "BagReg\n",
      "f1 score test: 0.8561122244488978\n",
      "f1 score train: 0.9849192579741092\n",
      "RandFor\n",
      "f1 score test: 0.8662470495672698\n",
      "f1 score train: 0.999602911978822\n",
      "AdaBoost\n",
      "f1 score test: 0.5183150183150184\n",
      "f1 score train: 0.523603825979636\n",
      "KNN\n",
      "f1 score test: 0.849728892331526\n",
      "f1 score train: 0.8977660972404731\n"
     ]
    }
   ],
   "source": [
    "for pipe_name, model in pipelines:\n",
    "    print(pipe_name)\n",
    "    model.fit(X_train, y_train)\n",
    "    pred = model.predict(X_test)\n",
    "    pred_train = model.predict(X_train)\n",
    "    print(f'f1 score test: {metrics.f1_score(y_test, pred)}')\n",
    "    print(f'f1 score train: {metrics.f1_score(y_train, pred_train)}')"
   ]
  },
  {
   "cell_type": "markdown",
   "id": "6621975d",
   "metadata": {},
   "source": [
    "## Section 2 - Model Selection Part 2"
   ]
  },
  {
   "cell_type": "markdown",
   "id": "78907d4b",
   "metadata": {},
   "source": [
    "Based on the score obtained abvoe, I will be tunining the following three model:\n",
    "1. Decision Tree\n",
    "2. Bagged Decision Tree\n",
    "3. Random Forest \n",
    "4. KNN\n",
    "\n",
    "The model that will be presenting best accuracy while also minimizing recall (FN) is the one that I will be saving for the streamlit app"
   ]
  },
  {
   "cell_type": "code",
   "execution_count": 15,
   "id": "ddf65ff5",
   "metadata": {},
   "outputs": [],
   "source": [
    "model_dt = Pipeline([ ('sc' , StandardScaler())    ,('dt'  , DecisionTreeClassifier(random_state=42) )])\n",
    "model_bc = Pipeline([ ('sc' , StandardScaler())    ,('bc'  , BaggingClassifier(random_state=42)  )])\n",
    "model_rf =Pipeline([ ('sc' , StandardScaler())    ,('rf'  , RandomForestClassifier(random_state=42)  )]) \n",
    "model_knn = Pipeline([ ('sc' , StandardScaler())    ,('KNN'  , KNeighborsClassifier()  )])"
   ]
  },
  {
   "cell_type": "code",
   "execution_count": 16,
   "id": "b50120ef",
   "metadata": {},
   "outputs": [],
   "source": [
    "params_dt = {\n",
    "    'dt__max_depth': [None, 2, 3],\n",
    "    'dt__min_samples_split': [2, 3, 4],\n",
    "    'dt__min_samples_leaf': [1, 2, 3],\n",
    "    'dt__ccp_alpha': [0, 0.001, 0.1]\n",
    "}\n",
    "params_bc = {  \n",
    "    \n",
    "    'bc__max_samples':[1.0,2,3],\n",
    "    'bc__max_features':[1.0, 3,4],\n",
    "    'bc__bootstrap_features':[False,True]   \n",
    "}\n",
    "params_rf = {\n",
    "    'rf__max_depth':[None, 3,4,5],\n",
    "    'rf__max_features':['auto',4,5,6]\n",
    "}\n",
    "params_knn = {\n",
    "    'KNN__n_neighbors':[5, 8,11, 15],\n",
    "    'KNN__weights':['uniform','distance']\n",
    "}"
   ]
  },
  {
   "cell_type": "code",
   "execution_count": 17,
   "id": "57548730",
   "metadata": {},
   "outputs": [],
   "source": [
    "gs_dt = GridSearchCV(estimator = model_dt, \n",
    "                    param_grid=params_dt, \n",
    "                    scoring='accuracy', \n",
    "                    cv=5)\n",
    "\n",
    "gs_bc = GridSearchCV(estimator = model_bc, \n",
    "                    param_grid=params_bc, \n",
    "                    scoring='accuracy', \n",
    "                    cv=5)\n",
    "\n",
    "gs_rf = GridSearchCV(estimator = model_rf, \n",
    "                    param_grid=params_rf, \n",
    "                    scoring='accuracy', \n",
    "                    cv=5)\n",
    "\n",
    "gs_knn = GridSearchCV(estimator = model_knn, \n",
    "                    param_grid=params_knn, \n",
    "                    scoring='accuracy', \n",
    "                    cv=5)"
   ]
  },
  {
   "cell_type": "code",
   "execution_count": 18,
   "id": "dfe70451",
   "metadata": {},
   "outputs": [
    {
     "name": "stdout",
     "output_type": "stream",
     "text": [
      "DecisionTreeClassifier\n",
      "Accuracy Score: 0.86673\n",
      "Recall Score: 0.84451\n",
      "Specificity Score: 0.88318\n",
      "Best Params: {'dt__ccp_alpha': 0, 'dt__max_depth': None, 'dt__min_samples_leaf': 1, 'dt__min_samples_split': 4}\n",
      "\n",
      "BaggingClassifier\n",
      "Accuracy Score: 0.87714\n",
      "Recall Score: 0.84294\n",
      "Specificity Score: 0.90245\n",
      "Best Params: {'bc__bootstrap_features': False, 'bc__max_features': 1.0, 'bc__max_samples': 1.0}\n",
      "\n",
      "RandomForestClassifier\n",
      "Accuracy Score: 0.88889\n",
      "Recall Score: 0.87293\n",
      "Specificity Score: 0.9007\n",
      "Best Params: {'rf__max_depth': None, 'rf__max_features': 'auto'}\n",
      "\n",
      "KNN\n",
      "Accuracy Score: 0.87479\n",
      "Recall Score: 0.86188\n",
      "Specificity Score: 0.88435\n",
      "Best Params: {'KNN__n_neighbors': 15, 'KNN__weights': 'distance'}\n",
      "\n"
     ]
    }
   ],
   "source": [
    "#Part of the code comes from this source: https://ryan-reilly.medium.com/gridsearch-pipelines-of-multiple-models-on-multiclass-classification-e9124b6ea2e3\n",
    "grids = [gs_dt, gs_bc, gs_rf ,gs_knn]\n",
    "for pipe in grids:\n",
    "    pipe.fit(X_train, y_train)\n",
    "grid_dict = {0: 'DecisionTreeClassifier', 1: 'BaggingClassifier', \n",
    "             2: 'RandomForestClassifier', 3:'KNN'}\n",
    "for i, model in enumerate(grids):\n",
    "    model.fit(X_train, y_train)\n",
    "    pred = model.predict(X_test)\n",
    "    pred_train = model.predict(X_train)\n",
    "    tn, fp, fn, tp = metrics.confusion_matrix(y_test, pred).ravel()\n",
    "    print(grid_dict[i])\n",
    "    print(f'Accuracy Score: {round(metrics.accuracy_score(y_test, pred),5)}')\n",
    "    print(f'Recall Score: {round(metrics.recall_score(y_test, pred),5)}')\n",
    "    print(f'Specificity Score: {round(tn/(tn + fp),5)}')\n",
    "#     print(f'Precision Score: {round(metrics.precision_score(y_test, pred),5)}')\n",
    "#     print(f'F1 Score Test: {round(metrics.f1_score(y_test, pred),5)}')\n",
    "#     print(f'F1 Score Train: {round(metrics.f1_score(y_train, pred_train),5)}')\n",
    "    print(f'Best Params: {model.best_params_}')\n",
    "    print()"
   ]
  },
  {
   "cell_type": "markdown",
   "id": "73e47265",
   "metadata": {},
   "source": [
    "## Section 3 - Random Forest Further Tuning and  Evaluation"
   ]
  },
  {
   "cell_type": "code",
   "execution_count": 19,
   "id": "09b20ee5",
   "metadata": {},
   "outputs": [],
   "source": [
    "model_rf =Pipeline([ ('sc' , StandardScaler()),('rf'  , RandomForestClassifier(random_state=42) )]) "
   ]
  },
  {
   "cell_type": "code",
   "execution_count": 20,
   "id": "2c429bc0",
   "metadata": {},
   "outputs": [],
   "source": [
    "params_rf = {\n",
    "    'rf__max_depth':[None, 3,4],\n",
    "    'rf__max_features':['auto',4,5],\n",
    "    'rf__min_samples_split':[4,6,8], \n",
    "    'rf__max_leaf_nodes':[None,2,3],\n",
    "    'rf__min_samples_leaf':[1,2,3],\n",
    "    'rf__n_estimators':[60,70,80]}\n",
    "\n",
    "gs_rf = GridSearchCV(estimator = model_rf, \n",
    "                    param_grid=params_rf, \n",
    "                    scoring='accuracy', \n",
    "                    cv=5)"
   ]
  },
  {
   "cell_type": "code",
   "execution_count": 21,
   "id": "da9a3a36",
   "metadata": {},
   "outputs": [],
   "source": [
    "model = gs_rf.fit(X_train, y_train)"
   ]
  },
  {
   "cell_type": "code",
   "execution_count": 22,
   "id": "6355a7e3",
   "metadata": {},
   "outputs": [
    {
     "name": "stdout",
     "output_type": "stream",
     "text": [
      "Accuracy Score: 0.9\n",
      "Recall Score: 0.889\n",
      "Specificity Score: 0.908\n",
      "Best Params: {'rf__max_depth': None, 'rf__max_features': 'auto', 'rf__max_leaf_nodes': None, 'rf__min_samples_leaf': 1, 'rf__min_samples_split': 8, 'rf__n_estimators': 70}\n"
     ]
    }
   ],
   "source": [
    "pred = model.predict(X_test)\n",
    "pred_train = model.predict(X_train)\n",
    "tn, fp, fn, tp = metrics.confusion_matrix(y_test, pred).ravel()\n",
    "print(f'Accuracy Score: {round(metrics.accuracy_score(y_test, pred),3)}')\n",
    "print(f'Recall Score: {round(metrics.recall_score(y_test, pred),3)}')\n",
    "print(f'Specificity Score: {round(tn/(tn + fp),3)}')\n",
    "print(f'Best Params: {model.best_params_}')"
   ]
  },
  {
   "cell_type": "code",
   "execution_count": 23,
   "id": "728d983d",
   "metadata": {},
   "outputs": [
    {
     "data": {
      "image/png": "[encoded data removed]",
      "text/plain": [
       "<Figure size 432x288 with 2 Axes>"
      ]
     },
     "metadata": {
      "needs_background": "light"
     },
     "output_type": "display_data"
    }
   ],
   "source": [
    "metrics.plot_confusion_matrix(model, X_test, y_test, cmap='Blues', \n",
    "                      values_format='d', display_labels=['No Commitment', 'NetZero']);"
   ]
  },
  {
   "cell_type": "code",
   "execution_count": 40,
   "id": "6598acc0",
   "metadata": {},
   "outputs": [
    {
     "data": {
      "image/png": "[encoded data removed]",
      "text/plain": [
       "<Figure size 504x360 with 2 Axes>"
      ]
     },
     "metadata": {
      "needs_background": "light"
     },
     "output_type": "display_data"
    }
   ],
   "source": [
    "cf_matrix = metrics.confusion_matrix(y_test, pred)\n",
    "#Source code: https://www.stackvidhya.com/plot-confusion-matrix-in-python-and-why/ \n",
    "group_names = ['True Neg','False Pos','False Neg','True Pos']\n",
    "\n",
    "group_counts = [\"{0:0.0f}\".format(value) for value in\n",
    "                cf_matrix.flatten()]\n",
    "\n",
    "group_percentages = [\"{0:.2%}\".format(value) for value in\n",
    "                     cf_matrix.flatten()/np.sum(cf_matrix)]\n",
    "\n",
    "labels = [f\"{v1}\\n{v2}\\n{v3}\" for v1, v2, v3 in\n",
    "          zip(group_names,group_counts,group_percentages)]\n",
    "\n",
    "labels = np.asarray(labels).reshape(2,2)\n",
    "\n",
    "plt.figure(figsize=(7,5))\n",
    "ax = sns.heatmap(cf_matrix, annot=labels, fmt='', cmap='Blues')\n",
    "\n",
    "ax.set_title('NetZero Commitment Predictions\\n');\n",
    "ax.set_xlabel('\\nPredicted Values')\n",
    "ax.set_ylabel('Actual Values ');\n",
    "\n",
    "## Ticket labels - List must be in alphabetical order\n",
    "ax.xaxis.set_ticklabels(['False','True'])\n",
    "ax.yaxis.set_ticklabels(['False','True'])\n",
    "\n",
    "## Display the visualization of the Confusion Matrix.\n",
    "plt.savefig('../images/confusion_matrix.png')\n",
    "plt.show();\n",
    "\n"
   ]
  },
  {
   "cell_type": "code",
   "execution_count": 37,
   "id": "86fb4b22",
   "metadata": {},
   "outputs": [
    {
     "data": {
      "text/plain": [
       "<Figure size 432x288 with 0 Axes>"
      ]
     },
     "metadata": {},
     "output_type": "display_data"
    }
   ],
   "source": []
  },
  {
   "cell_type": "code",
   "execution_count": 25,
   "id": "fc25a4de",
   "metadata": {},
   "outputs": [
    {
     "data": {
      "text/html": [
       "<div>\n",
       "<style scoped>\n",
       "    .dataframe tbody tr th:only-of-type {\n",
       "        vertical-align: middle;\n",
       "    }\n",
       "\n",
       "    .dataframe tbody tr th {\n",
       "        vertical-align: top;\n",
       "    }\n",
       "\n",
       "    .dataframe thead th {\n",
       "        text-align: right;\n",
       "    }\n",
       "</style>\n",
       "<table border=\"1\" class=\"dataframe\">\n",
       "  <thead>\n",
       "    <tr style=\"text-align: right;\">\n",
       "      <th></th>\n",
       "      <th>0</th>\n",
       "    </tr>\n",
       "  </thead>\n",
       "  <tbody>\n",
       "    <tr>\n",
       "      <th>scope1_2_emission</th>\n",
       "      <td>0.348846</td>\n",
       "    </tr>\n",
       "    <tr>\n",
       "      <th>scope_3_tonnes</th>\n",
       "      <td>0.311524</td>\n",
       "    </tr>\n",
       "    <tr>\n",
       "      <th>region_Europe</th>\n",
       "      <td>0.034207</td>\n",
       "    </tr>\n",
       "    <tr>\n",
       "      <th>gics_sector_name_Consumer Staples</th>\n",
       "      <td>0.021341</td>\n",
       "    </tr>\n",
       "    <tr>\n",
       "      <th>gics_sector_name_Industrials</th>\n",
       "      <td>0.021120</td>\n",
       "    </tr>\n",
       "    <tr>\n",
       "      <th>region_Asia/Pacific Ex Japan</th>\n",
       "      <td>0.020890</td>\n",
       "    </tr>\n",
       "    <tr>\n",
       "      <th>target_status_class_year_targets_set</th>\n",
       "      <td>0.019930</td>\n",
       "    </tr>\n",
       "    <tr>\n",
       "      <th>region_North America</th>\n",
       "      <td>0.019667</td>\n",
       "    </tr>\n",
       "    <tr>\n",
       "      <th>gics_sector_name_Financials</th>\n",
       "      <td>0.019131</td>\n",
       "    </tr>\n",
       "    <tr>\n",
       "      <th>region_Japan</th>\n",
       "      <td>0.018545</td>\n",
       "    </tr>\n",
       "    <tr>\n",
       "      <th>target_status_class_year_committed</th>\n",
       "      <td>0.018402</td>\n",
       "    </tr>\n",
       "    <tr>\n",
       "      <th>gics_sector_name_Communication Services</th>\n",
       "      <td>0.016544</td>\n",
       "    </tr>\n",
       "    <tr>\n",
       "      <th>gics_sector_name_Materials</th>\n",
       "      <td>0.016535</td>\n",
       "    </tr>\n",
       "    <tr>\n",
       "      <th>gics_sector_name_Information Technology</th>\n",
       "      <td>0.016325</td>\n",
       "    </tr>\n",
       "    <tr>\n",
       "      <th>gics_sector_name_Consumer Discretionary</th>\n",
       "      <td>0.014996</td>\n",
       "    </tr>\n",
       "    <tr>\n",
       "      <th>company_cap_medium</th>\n",
       "      <td>0.012787</td>\n",
       "    </tr>\n",
       "    <tr>\n",
       "      <th>company_cap_large</th>\n",
       "      <td>0.012179</td>\n",
       "    </tr>\n",
       "    <tr>\n",
       "      <th>gics_sector_name_Utilities</th>\n",
       "      <td>0.010641</td>\n",
       "    </tr>\n",
       "    <tr>\n",
       "      <th>gics_sector_name_Real Estate</th>\n",
       "      <td>0.010058</td>\n",
       "    </tr>\n",
       "    <tr>\n",
       "      <th>country_economy_emerging</th>\n",
       "      <td>0.009374</td>\n",
       "    </tr>\n",
       "    <tr>\n",
       "      <th>country_economy_developed</th>\n",
       "      <td>0.008019</td>\n",
       "    </tr>\n",
       "    <tr>\n",
       "      <th>gics_sector_name_Health Care</th>\n",
       "      <td>0.007814</td>\n",
       "    </tr>\n",
       "    <tr>\n",
       "      <th>region_Latin America</th>\n",
       "      <td>0.005029</td>\n",
       "    </tr>\n",
       "    <tr>\n",
       "      <th>region_Africa/Mideast</th>\n",
       "      <td>0.004684</td>\n",
       "    </tr>\n",
       "    <tr>\n",
       "      <th>company_cap_small</th>\n",
       "      <td>0.000909</td>\n",
       "    </tr>\n",
       "    <tr>\n",
       "      <th>gics_sector_name_Energy</th>\n",
       "      <td>0.000502</td>\n",
       "    </tr>\n",
       "  </tbody>\n",
       "</table>\n",
       "</div>"
      ],
      "text/plain": [
       "                                                0\n",
       "scope1_2_emission                        0.348846\n",
       "scope_3_tonnes                           0.311524\n",
       "region_Europe                            0.034207\n",
       "gics_sector_name_Consumer Staples        0.021341\n",
       "gics_sector_name_Industrials             0.021120\n",
       "region_Asia/Pacific Ex Japan             0.020890\n",
       "target_status_class_year_targets_set     0.019930\n",
       "region_North America                     0.019667\n",
       "gics_sector_name_Financials              0.019131\n",
       "region_Japan                             0.018545\n",
       "target_status_class_year_committed       0.018402\n",
       "gics_sector_name_Communication Services  0.016544\n",
       "gics_sector_name_Materials               0.016535\n",
       "gics_sector_name_Information Technology  0.016325\n",
       "gics_sector_name_Consumer Discretionary  0.014996\n",
       "company_cap_medium                       0.012787\n",
       "company_cap_large                        0.012179\n",
       "gics_sector_name_Utilities               0.010641\n",
       "gics_sector_name_Real Estate             0.010058\n",
       "country_economy_emerging                 0.009374\n",
       "country_economy_developed                0.008019\n",
       "gics_sector_name_Health Care             0.007814\n",
       "region_Latin America                     0.005029\n",
       "region_Africa/Mideast                    0.004684\n",
       "company_cap_small                        0.000909\n",
       "gics_sector_name_Energy                  0.000502"
      ]
     },
     "execution_count": 25,
     "metadata": {},
     "output_type": "execute_result"
    }
   ],
   "source": [
    "model_4_eval = RandomForestClassifier(min_samples_split=8,n_estimators=80, \n",
    "                                      random_state=42, \n",
    "                                      max_features=4, \n",
    "                                      max_depth=None, \n",
    "                                      max_leaf_nodes=None, \n",
    "                                      min_samples_leaf=1) \n",
    "model = model_4_eval.fit(X_train, y_train)\n",
    "\n",
    "predictors = pd.DataFrame(model.feature_importances_, X.columns).sort_values(by=0, ascending=False)\n",
    "predictors"
   ]
  },
  {
   "cell_type": "markdown",
   "id": "7791e6b2",
   "metadata": {},
   "source": [
    "**Model Saving** Saving the random forest classifier for streamlit app"
   ]
  },
  {
   "cell_type": "code",
   "execution_count": 26,
   "id": "c81a2de5",
   "metadata": {},
   "outputs": [],
   "source": [
    "#saving the model fit for Streamlit\n",
    "with open('../model/climate_commitment.pkl', 'wb') as f:\n",
    "    model = pickle.dump(model, f)"
   ]
  }
 ],
 "metadata": {
  "kernelspec": {
   "display_name": "Python 3 (ipykernel)",
   "language": "python",
   "name": "python3"
  },
  "language_info": {
   "codemirror_mode": {
    "name": "ipython",
    "version": 3
   },
   "file_extension": ".py",
   "mimetype": "text/x-python",
   "name": "python",
   "nbconvert_exporter": "python",
   "pygments_lexer": "ipython3",
   "version": "3.9.7"
  }
 },
 "nbformat": 4,
 "nbformat_minor": 5
}
