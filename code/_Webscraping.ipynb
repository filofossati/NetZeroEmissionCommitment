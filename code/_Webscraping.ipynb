{
 "cells": [
  {
   "cell_type": "markdown",
   "id": "683e5d60",
   "metadata": {},
   "source": [
    "## Webscraping "
   ]
  },
  {
   "cell_type": "markdown",
   "id": "dabf9d6f",
   "metadata": {},
   "source": [
    "I am webscraping country ISIN code; this will help me merge all emissions factors at the country level with company emissions by geography (time and geography merge)"
   ]
  },
  {
   "cell_type": "code",
   "execution_count": 2,
   "id": "3bd045d9",
   "metadata": {},
   "outputs": [],
   "source": [
    "import pandas as pd\n",
    "import numpy as np\n",
    "import matplotlib.pyplot as plt\n",
    "import seaborn as sns\n",
    "\n",
    "\n",
    "from bs4 import BeautifulSoup\n",
    "import requests\n",
    "import time"
   ]
  },
  {
   "cell_type": "markdown",
   "id": "dfec086b",
   "metadata": {},
   "source": [
    "**ISIN Code by Country**"
   ]
  },
  {
   "cell_type": "code",
   "execution_count": 3,
   "id": "4b57cea2",
   "metadata": {},
   "outputs": [
    {
     "name": "stdout",
     "output_type": "stream",
     "text": [
      "200\n"
     ]
    }
   ],
   "source": [
    "## WORKING CODE, Deactivated to avoid webscraping everytime I rerun the notebook\n",
    "\n",
    "# url = 'https://www.isin.net/country-codes/'\n",
    "# response = requests.get(url)\n",
    "# print(response.status_code)\n",
    "# html = response.text\n",
    "# soup = BeautifulSoup(html, 'lxml')\n",
    "# table = soup.find('table', {'id':'tc_list'})\n",
    "# countries = []\n",
    "# for row in table.find_all('tr')[1:]:\n",
    "#     country = {}\n",
    "#     country['name'] = row.find_all('td')[0].text\n",
    "#     country['country_isin'] = row.find_all('td')[2].text\n",
    "#     countries.append(country)\n",
    "# time.sleep(2)\n",
    "# countries = pd.DataFrame(countries)\n",
    "# countries['country_name'] = countries['name'].map(lambda x: x.lower().capitalize())\n",
    "# countries.to_csv('../data/country_isin.csv', index=False)"
   ]
  }
 ],
 "metadata": {
  "kernelspec": {
   "display_name": "Python 3 (ipykernel)",
   "language": "python",
   "name": "python3"
  },
  "language_info": {
   "codemirror_mode": {
    "name": "ipython",
    "version": 3
   },
   "file_extension": ".py",
   "mimetype": "text/x-python",
   "name": "python",
   "nbconvert_exporter": "python",
   "pygments_lexer": "ipython3",
   "version": "3.9.7"
  }
 },
 "nbformat": 4,
 "nbformat_minor": 5
}
